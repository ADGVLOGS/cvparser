{
  "nbformat": 4,
  "nbformat_minor": 0,
  "metadata": {
    "kernelspec": {
      "name": "python386jvsc74a57bd02db524e06e9f5f4ffedc911c917cb75e12dbc923643829bf417064a77eb14d37",
      "display_name": "Python 3.8.5 64-bit"
    },
    "language_info": {
      "codemirror_mode": {
        "name": "ipython",
        "version": 3
      },
      "file_extension": ".py",
      "mimetype": "text/x-python",
      "name": "python",
      "nbconvert_exporter": "python",
      "pygments_lexer": "ipython3",
      "version": "3.8.5"
    },
    "colab": {
      "name": "Copy of resume parse.ipynb",
      "provenance": [],
      "collapsed_sections": []
    }
  },
  "cells": [
    {
      "cell_type": "code",
      "metadata": {
        "id": "-Z1AYTSc7Fm_"
      },
      "source": [
        "!pip install resume-parser"
      ],
      "execution_count": 1,
      "outputs": [
        {
          "output_type": "stream",
          "name": "stdout",
          "text": [
            "Requirement already satisfied: resume-parser in c:\\users\\ashlin darius g\\anaconda3\\lib\\site-packages (0.8)\n",
            "Requirement already satisfied: pandas>=1.1.0 in c:\\users\\ashlin darius g\\anaconda3\\lib\\site-packages (from resume-parser) (1.1.3)\n",
            "Requirement already satisfied: phonenumbers>=8.12.7 in c:\\users\\ashlin darius g\\anaconda3\\lib\\site-packages (from resume-parser) (8.12.23)\n",
            "Requirement already satisfied: tika>=1.24 in c:\\users\\ashlin darius g\\anaconda3\\lib\\site-packages (from resume-parser) (1.24)\n",
            "Requirement already satisfied: stemming>=1.0.1 in c:\\users\\ashlin darius g\\anaconda3\\lib\\site-packages (from resume-parser) (1.0.1)\n",
            "Requirement already satisfied: nltk>=3.5 in c:\\users\\ashlin darius g\\anaconda3\\lib\\site-packages (from resume-parser) (3.5)\n",
            "Requirement already satisfied: pdfminer.six>=20200517 in c:\\users\\ashlin darius g\\anaconda3\\lib\\site-packages (from resume-parser) (20200517)\n",
            "Requirement already satisfied: docx2txt>=0.8 in c:\\users\\ashlin darius g\\anaconda3\\lib\\site-packages (from resume-parser) (0.8)\n",
            "Requirement already satisfied: pdfplumber>=0.5.23 in c:\\users\\ashlin darius g\\anaconda3\\lib\\site-packages (from resume-parser) (0.5.28)\n",
            "Requirement already satisfied: spacy>=2.3.2 in c:\\users\\ashlin darius g\\anaconda3\\lib\\site-packages (from resume-parser) (2.3.5)\n",
            "Requirement already satisfied: numpy>=1.19.1 in c:\\users\\ashlin darius g\\anaconda3\\lib\\site-packages (from resume-parser) (1.19.2)\n",
            "Requirement already satisfied: click in c:\\users\\ashlin darius g\\anaconda3\\lib\\site-packages (from nltk>=3.5->resume-parser) (7.1.2)\n",
            "Requirement already satisfied: joblib in c:\\users\\ashlin darius g\\anaconda3\\lib\\site-packages (from nltk>=3.5->resume-parser) (0.17.0)\n",
            "Requirement already satisfied: regex in c:\\users\\ashlin darius g\\anaconda3\\lib\\site-packages (from nltk>=3.5->resume-parser) (2020.10.15)\n",
            "Requirement already satisfied: tqdm in c:\\users\\ashlin darius g\\anaconda3\\lib\\site-packages (from nltk>=3.5->resume-parser) (4.50.2)\n",
            "Requirement already satisfied: python-dateutil>=2.7.3 in c:\\users\\ashlin darius g\\anaconda3\\lib\\site-packages (from pandas>=1.1.0->resume-parser) (2.8.1)\n",
            "Requirement already satisfied: pytz>=2017.2 in c:\\users\\ashlin darius g\\anaconda3\\lib\\site-packages (from pandas>=1.1.0->resume-parser) (2020.1)\n",
            "Requirement already satisfied: chardet in c:\\users\\ashlin darius g\\anaconda3\\lib\\site-packages (from pdfminer.six>=20200517->resume-parser) (3.0.4)\n",
            "Requirement already satisfied: pycryptodome in c:\\users\\ashlin darius g\\anaconda3\\lib\\site-packages (from pdfminer.six>=20200517->resume-parser) (3.10.1)\n",
            "Requirement already satisfied: sortedcontainers in c:\\users\\ashlin darius g\\anaconda3\\lib\\site-packages (from pdfminer.six>=20200517->resume-parser) (2.2.2)\n",
            "Requirement already satisfied: Pillow>=7.0.0 in c:\\users\\ashlin darius g\\anaconda3\\lib\\site-packages (from pdfplumber>=0.5.23->resume-parser) (8.0.1)\n",
            "Requirement already satisfied: Wand in c:\\users\\ashlin darius g\\anaconda3\\lib\\site-packages (from pdfplumber>=0.5.23->resume-parser) (0.6.6)\n",
            "Requirement already satisfied: six>=1.5 in c:\\users\\ashlin darius g\\appdata\\roaming\\python\\python38\\site-packages (from python-dateutil>=2.7.3->pandas>=1.1.0->resume-parser) (1.15.0)\n",
            "Requirement already satisfied: thinc<7.5.0,>=7.4.1 in c:\\users\\ashlin darius g\\anaconda3\\lib\\site-packages (from spacy>=2.3.2->resume-parser) (7.4.5)\n",
            "Requirement already satisfied: wasabi<1.1.0,>=0.4.0 in c:\\users\\ashlin darius g\\anaconda3\\lib\\site-packages (from spacy>=2.3.2->resume-parser) (0.8.2)\n",
            "Requirement already satisfied: plac<1.2.0,>=0.9.6 in c:\\users\\ashlin darius g\\anaconda3\\lib\\site-packages (from spacy>=2.3.2->resume-parser) (1.1.3)\n",
            "Requirement already satisfied: requests<3.0.0,>=2.13.0 in c:\\users\\ashlin darius g\\anaconda3\\lib\\site-packages (from spacy>=2.3.2->resume-parser) (2.24.0)\n",
            "Requirement already satisfied: murmurhash<1.1.0,>=0.28.0 in c:\\users\\ashlin darius g\\anaconda3\\lib\\site-packages (from spacy>=2.3.2->resume-parser) (1.0.5)\n",
            "Requirement already satisfied: srsly<1.1.0,>=1.0.2 in c:\\users\\ashlin darius g\\anaconda3\\lib\\site-packages (from spacy>=2.3.2->resume-parser) (1.0.5)\n",
            "Requirement already satisfied: catalogue<1.1.0,>=0.0.7 in c:\\users\\ashlin darius g\\anaconda3\\lib\\site-packages (from spacy>=2.3.2->resume-parser) (1.0.0)\n",
            "Requirement already satisfied: blis<0.8.0,>=0.4.0 in c:\\users\\ashlin darius g\\anaconda3\\lib\\site-packages (from spacy>=2.3.2->resume-parser) (0.7.4)\n",
            "Requirement already satisfied: cymem<2.1.0,>=2.0.2 in c:\\users\\ashlin darius g\\anaconda3\\lib\\site-packages (from spacy>=2.3.2->resume-parser) (2.0.5)\n",
            "Requirement already satisfied: setuptools in c:\\users\\ashlin darius g\\anaconda3\\lib\\site-packages (from spacy>=2.3.2->resume-parser) (50.3.1.post20201107)\n",
            "Requirement already satisfied: preshed<3.1.0,>=3.0.2 in c:\\users\\ashlin darius g\\anaconda3\\lib\\site-packages (from spacy>=2.3.2->resume-parser) (3.0.5)\n",
            "Requirement already satisfied: idna<3,>=2.5 in c:\\users\\ashlin darius g\\anaconda3\\lib\\site-packages (from requests<3.0.0,>=2.13.0->spacy>=2.3.2->resume-parser) (2.10)\n",
            "Requirement already satisfied: certifi>=2017.4.17 in c:\\users\\ashlin darius g\\anaconda3\\lib\\site-packages (from requests<3.0.0,>=2.13.0->spacy>=2.3.2->resume-parser) (2020.6.20)\n",
            "Requirement already satisfied: urllib3!=1.25.0,!=1.25.1,<1.26,>=1.21.1 in c:\\users\\ashlin darius g\\anaconda3\\lib\\site-packages (from requests<3.0.0,>=2.13.0->spacy>=2.3.2->resume-parser) (1.25.11)\n",
            "WARNING: You are using pip version 21.1.1; however, version 21.1.2 is available.\n",
            "You should consider upgrading via the 'c:\\python38\\python.exe -m pip install --upgrade pip' command.\n"
          ]
        }
      ]
    },
    {
      "cell_type": "code",
      "metadata": {
        "id": "22VnGnabZPHJ"
      },
      "source": [
        "!pip install https://github.com/explosion/spacy-models/releases/download/en_core_web_sm-2.3.1/en_core_web_sm-2.3.1.tar.gz\n",
        "!pip install importlib-metadata==3.2.0"
      ],
      "execution_count": 2,
      "outputs": [
        {
          "output_type": "stream",
          "name": "stdout",
          "text": [
            "Collecting https://github.com/explosion/spacy-models/releases/download/en_core_web_sm-2.3.1/en_core_web_sm-2.3.1.tar.gz\n",
            "  Downloading https://github.com/explosion/spacy-models/releases/download/en_core_web_sm-2.3.1/en_core_web_sm-2.3.1.tar.gz (12.0 MB)\n",
            "Requirement already satisfied: spacy<2.4.0,>=2.3.0 in c:\\users\\ashlin darius g\\anaconda3\\lib\\site-packages (from en-core-web-sm==2.3.1) (2.3.5)\n",
            "Requirement already satisfied: requests<3.0.0,>=2.13.0 in c:\\users\\ashlin darius g\\anaconda3\\lib\\site-packages (from spacy<2.4.0,>=2.3.0->en-core-web-sm==2.3.1) (2.24.0)\n",
            "Requirement already satisfied: preshed<3.1.0,>=3.0.2 in c:\\users\\ashlin darius g\\anaconda3\\lib\\site-packages (from spacy<2.4.0,>=2.3.0->en-core-web-sm==2.3.1) (3.0.5)\n",
            "Requirement already satisfied: thinc<7.5.0,>=7.4.1 in c:\\users\\ashlin darius g\\anaconda3\\lib\\site-packages (from spacy<2.4.0,>=2.3.0->en-core-web-sm==2.3.1) (7.4.5)\n",
            "Requirement already satisfied: wasabi<1.1.0,>=0.4.0 in c:\\users\\ashlin darius g\\anaconda3\\lib\\site-packages (from spacy<2.4.0,>=2.3.0->en-core-web-sm==2.3.1) (0.8.2)\n",
            "Requirement already satisfied: setuptools in c:\\users\\ashlin darius g\\anaconda3\\lib\\site-packages (from spacy<2.4.0,>=2.3.0->en-core-web-sm==2.3.1) (50.3.1.post20201107)\n",
            "Requirement already satisfied: cymem<2.1.0,>=2.0.2 in c:\\users\\ashlin darius g\\anaconda3\\lib\\site-packages (from spacy<2.4.0,>=2.3.0->en-core-web-sm==2.3.1) (2.0.5)\n",
            "Requirement already satisfied: murmurhash<1.1.0,>=0.28.0 in c:\\users\\ashlin darius g\\anaconda3\\lib\\site-packages (from spacy<2.4.0,>=2.3.0->en-core-web-sm==2.3.1) (1.0.5)\n",
            "Requirement already satisfied: numpy>=1.15.0 in c:\\users\\ashlin darius g\\anaconda3\\lib\\site-packages (from spacy<2.4.0,>=2.3.0->en-core-web-sm==2.3.1) (1.19.2)\n",
            "Requirement already satisfied: blis<0.8.0,>=0.4.0 in c:\\users\\ashlin darius g\\anaconda3\\lib\\site-packages (from spacy<2.4.0,>=2.3.0->en-core-web-sm==2.3.1) (0.7.4)\n",
            "Requirement already satisfied: tqdm<5.0.0,>=4.38.0 in c:\\users\\ashlin darius g\\anaconda3\\lib\\site-packages (from spacy<2.4.0,>=2.3.0->en-core-web-sm==2.3.1) (4.50.2)\n",
            "Requirement already satisfied: srsly<1.1.0,>=1.0.2 in c:\\users\\ashlin darius g\\anaconda3\\lib\\site-packages (from spacy<2.4.0,>=2.3.0->en-core-web-sm==2.3.1) (1.0.5)\n",
            "Requirement already satisfied: catalogue<1.1.0,>=0.0.7 in c:\\users\\ashlin darius g\\anaconda3\\lib\\site-packages (from spacy<2.4.0,>=2.3.0->en-core-web-sm==2.3.1) (1.0.0)\n",
            "Requirement already satisfied: plac<1.2.0,>=0.9.6 in c:\\users\\ashlin darius g\\anaconda3\\lib\\site-packages (from spacy<2.4.0,>=2.3.0->en-core-web-sm==2.3.1) (1.1.3)\n",
            "Requirement already satisfied: chardet<4,>=3.0.2 in c:\\users\\ashlin darius g\\anaconda3\\lib\\site-packages (from requests<3.0.0,>=2.13.0->spacy<2.4.0,>=2.3.0->en-core-web-sm==2.3.1) (3.0.4)\n",
            "Requirement already satisfied: certifi>=2017.4.17 in c:\\users\\ashlin darius g\\anaconda3\\lib\\site-packages (from requests<3.0.0,>=2.13.0->spacy<2.4.0,>=2.3.0->en-core-web-sm==2.3.1) (2020.6.20)\n",
            "Requirement already satisfied: idna<3,>=2.5 in c:\\users\\ashlin darius g\\anaconda3\\lib\\site-packages (from requests<3.0.0,>=2.13.0->spacy<2.4.0,>=2.3.0->en-core-web-sm==2.3.1) (2.10)\n",
            "Requirement already satisfied: urllib3!=1.25.0,!=1.25.1,<1.26,>=1.21.1 in c:\\users\\ashlin darius g\\anaconda3\\lib\\site-packages (from requests<3.0.0,>=2.13.0->spacy<2.4.0,>=2.3.0->en-core-web-sm==2.3.1) (1.25.11)\n",
            "WARNING: You are using pip version 21.1.1; however, version 21.1.2 is available.\n",
            "You should consider upgrading via the 'c:\\python38\\python.exe -m pip install --upgrade pip' command.\n",
            "Requirement already satisfied: importlib-metadata==3.2.0 in c:\\users\\ashlin darius g\\anaconda3\\lib\\site-packages (3.2.0)\n",
            "Requirement already satisfied: zipp>=0.5 in c:\\users\\ashlin darius g\\anaconda3\\lib\\site-packages (from importlib-metadata==3.2.0) (3.4.0)\n",
            "WARNING: You are using pip version 21.1.1; however, version 21.1.2 is available.\n",
            "You should consider upgrading via the 'c:\\python38\\python.exe -m pip install --upgrade pip' command.\n"
          ]
        }
      ]
    },
    {
      "cell_type": "code",
      "execution_count": null,
      "metadata": {},
      "outputs": [],
      "source": [
        "!pip install pyodbc"
      ]
    },
    {
      "cell_type": "code",
      "metadata": {
        "id": "CroYFUCQeE7f",
        "colab": {
          "base_uri": "https://localhost:8080/"
        },
        "outputId": "b37735a3-cddb-4833-eeb6-9acbd2e0484a"
      },
      "source": [
        "import nltk\n",
        "\n",
        "nltk.download('punkt')\n",
        "nltk.download('averaged_perceptron_tagger')\n",
        "nltk.download('universal_tagset')\n",
        "nltk.download('maxent_ne_chunker')\n",
        "nltk.download('stopwords')\n",
        "nltk.download('wordnet')\n",
        "nltk.download('brown')"
      ],
      "execution_count": 3,
      "outputs": [
        {
          "output_type": "stream",
          "name": "stderr",
          "text": [
            "[nltk_data] Downloading package punkt to C:\\Users\\Ashlin Darius\n",
            "[nltk_data]     G\\AppData\\Roaming\\nltk_data...\n",
            "[nltk_data]   Package punkt is already up-to-date!\n",
            "[nltk_data] Downloading package averaged_perceptron_tagger to\n",
            "[nltk_data]     C:\\Users\\Ashlin Darius G\\AppData\\Roaming\\nltk_data...\n",
            "[nltk_data]   Package averaged_perceptron_tagger is already up-to-\n",
            "[nltk_data]       date!\n",
            "[nltk_data] Downloading package universal_tagset to C:\\Users\\Ashlin\n",
            "[nltk_data]     Darius G\\AppData\\Roaming\\nltk_data...\n",
            "[nltk_data]   Package universal_tagset is already up-to-date!\n",
            "[nltk_data] Downloading package maxent_ne_chunker to C:\\Users\\Ashlin\n",
            "[nltk_data]     Darius G\\AppData\\Roaming\\nltk_data...\n",
            "[nltk_data]   Package maxent_ne_chunker is already up-to-date!\n",
            "[nltk_data] Downloading package stopwords to C:\\Users\\Ashlin Darius\n",
            "[nltk_data]     G\\AppData\\Roaming\\nltk_data...\n",
            "[nltk_data]   Package stopwords is already up-to-date!\n",
            "[nltk_data] Downloading package wordnet to C:\\Users\\Ashlin Darius\n",
            "[nltk_data]     G\\AppData\\Roaming\\nltk_data...\n",
            "[nltk_data]   Package wordnet is already up-to-date!\n",
            "[nltk_data] Downloading package brown to C:\\Users\\Ashlin Darius\n",
            "[nltk_data]     G\\AppData\\Roaming\\nltk_data...\n",
            "[nltk_data]   Package brown is already up-to-date!\n"
          ]
        },
        {
          "output_type": "execute_result",
          "data": {
            "text/plain": [
              "True"
            ]
          },
          "metadata": {},
          "execution_count": 3
        }
      ]
    },
    {
      "cell_type": "code",
      "metadata": {
        "colab": {
          "base_uri": "https://localhost:8080/",
          "height": 35
        },
        "id": "SxZGsVZoaOrt",
        "outputId": "c801b5e8-2666-460b-c4f1-3570ca3a44f6"
      },
      "source": [
        "import spacy\n",
        "spacy.__version__"
      ],
      "execution_count": 4,
      "outputs": [
        {
          "output_type": "execute_result",
          "data": {
            "text/plain": [
              "'2.3.5'"
            ]
          },
          "metadata": {},
          "execution_count": 4
        }
      ]
    },
    {
      "cell_type": "code",
      "metadata": {
        "id": "F3-mHsTiZXXC",
        "colab": {
          "base_uri": "https://localhost:8080/",
          "height": 35
        },
        "outputId": "7cc07605-738a-4570-d8ee-62503debebc7"
      },
      "source": [
        "import en_core_web_sm\n",
        "en_core_web_sm.__version__"
      ],
      "execution_count": 5,
      "outputs": [
        {
          "output_type": "execute_result",
          "data": {
            "text/plain": [
              "'2.3.1'"
            ]
          },
          "metadata": {},
          "execution_count": 5
        }
      ]
    },
    {
      "cell_type": "code",
      "execution_count": 6,
      "metadata": {},
      "outputs": [],
      "source": [
        "import pyodbc\n",
        "\n",
        "def RunQuery(query):\n",
        " try: \n",
        "  conn = pyodbc.connect('Driver={SQL Server};'\n",
        "                      'Server=localhost;'\n",
        "                      'Database=CVs;'\n",
        "                      'Trusted_Connection=yes;')\n",
        "  cursor = conn.cursor()\n",
        "\n",
        "  cursor.execute(query)\n",
        "  cursor.commit()\n",
        "  return \"Query Executed\"\n",
        " except Exception as e:\n",
        "  return \"Database Error\",e\n"
      ]
    },
    {
      "cell_type": "code",
      "execution_count": 7,
      "metadata": {},
      "outputs": [],
      "source": [
        "def fields(cur):\n",
        "    results = {}\n",
        "    column = 0\n",
        "    for d in cur.description:\n",
        "        results[d[0]] = column\n",
        "        column = column + 1\n",
        "\n",
        "    return results\n",
        "\n",
        "\n",
        "\n",
        "\n",
        "def CheckIfDataExists(name):\n",
        "  bValid = False \n",
        "  conn = pyodbc.connect('Driver={SQL Server};'\n",
        "                      'Server=localhost;'\n",
        "                      'Database=CVs;'\n",
        "                      'Trusted_Connection=yes;')\n",
        "  cursor = conn.cursor()\n",
        "\n",
        "  cursor.execute(\"select * from tblUsers\")  \n",
        "  field_map = fields(cursor) \n",
        "  for row in cursor:\n",
        "   if row[field_map['name']] == name:   \n",
        "    bValid = True\n",
        "  \n",
        "  return bValid\n",
        "  \n",
        "\n",
        "def getID(name):\n",
        "  conn = pyodbc.connect('Driver={SQL Server};'\n",
        "                      'Server=localhost;'\n",
        "                      'Database=CVs;'\n",
        "                      'Trusted_Connection=yes;')\n",
        "  cursor = conn.cursor()\n",
        "\n",
        "  cursor.execute(\"select * from tblUsers\")  \n",
        "  field_map = fields(cursor) \n",
        "  for row in cursor:\n",
        "   if row[field_map['name']] == name:   \n",
        "    id = row[field_map['personid']]\n",
        "  \n",
        "  return id\n",
        "\n",
        "\n",
        " \n",
        "\n"
      ]
    },
    {
      "cell_type": "code",
      "execution_count": 8,
      "metadata": {},
      "outputs": [],
      "source": [
        "def ProcessCV():\n",
        " for index,row in df.iterrows():\n",
        "  email = \"'\"+row['email']+\"'\"\n",
        "  phone = \"'\"+row['phone']+\"'\"\n",
        "  name  = \"'\"+row['name']+\"'\"\n",
        "  total_exp =  \"'\"+str(row['total_exp'])+\"'\"\n",
        "  university = row['university']\n",
        "  designition = row['designition']\n",
        "  degree = row['degree']\n",
        "  skills =  row['skills']\n",
        "  companies = row['Companies worked at']\n",
        "\n",
        "  bValid = CheckIfDataExists(row['name'])\n",
        " \n",
        "\n",
        "\n",
        "  if bValid == False:\n",
        "    try: \n",
        "     conn = pyodbc.connect('Driver={SQL Server};'\n",
        "                       'Server=localhost;'\n",
        "                       'Database=CVs;'\n",
        "                       'Trusted_Connection=yes;')\n",
        "     cursor = conn.cursor()\n",
        "     sql =  f'''\n",
        "     INSERT INTO tblUsers \n",
        "     (name,phone,total_exp,email,password,address) \n",
        "     VALUES ({name},{phone},{total_exp},{email},'','')\n",
        "     \n",
        "     '''\n",
        "     cursor.execute(sql)\n",
        "    \n",
        "     conn.commit()\n",
        "    \n",
        "     id = getID(row['name'])\n",
        "     personid = \"'\"+str(id)+\"'\"\n",
        "     for x in university:\n",
        "      universites = \"'\"+x+\"'\"\n",
        "      sql = f''' \n",
        "      INSERT INTO tblUniversity\n",
        "      (personid,university) \n",
        "      VALUES ({personid},{university})\n",
        "      '''    \n",
        "      RunQuery(sql)\n",
        "\n",
        "     for x in skills:\n",
        "      skill = \"'\"+x.lstrip()+\"'\"\n",
        "      sql = f''' \n",
        "      INSERT INTO tblSkills \n",
        "      (personid,Skills) \n",
        "      VALUES ({personid},{skill})\n",
        "      '''    \n",
        "      RunQuery(sql)\n",
        " \n",
        "     for x in designition:\n",
        "      design = \"'\"+x+\"'\"\n",
        "      sql = f''' \n",
        "      INSERT INTO tblDesignition\n",
        "      (personid,designition) \n",
        "      VALUES ({personid},{design})\n",
        "      '''    \n",
        "      RunQuery(sql)\n",
        "\n",
        "     for x in degree:\n",
        "      deg = \"'\"+x+\"'\"\n",
        "      sql = f''' \n",
        "      INSERT INTO tblDegree\n",
        "      (personid,degree,StartDate,EndDate,Institute) \n",
        "      VALUES ({personid},{deg},'','','')\n",
        "      '''    \n",
        "      RunQuery(sql)\n",
        " \n",
        "     for x in companies:\n",
        "      comp = \"'\"+x+\"'\"\n",
        "      sql = f''' \n",
        "      INSERT INTO tblCompanies \n",
        "      (personid,CompanyName,Position,StartDate,EndDate) \n",
        "      VALUES ({personid},{comp},'','','')\n",
        "      '''    \n",
        "      RunQuery(sql)\n",
        "\n",
        "     print(\"Record inserted\")\n",
        "    except Exception as e:\n",
        "     print('Exception ',e)\n",
        "  else:\n",
        "     print(\"No new records inserted\")\n",
        "\n"
      ]
    },
    {
      "cell_type": "code",
      "execution_count": 9,
      "metadata": {},
      "outputs": [
        {
          "output_type": "stream",
          "name": "stderr",
          "text": [
            "C:\\Users\\Ashlin Darius G\\anaconda3\\lib\\site-packages\\spacy\\util.py:275: UserWarning: [W031] Model 'en_training' (0.0.0) requires spaCy v2.2 and is incompatible with the current spaCy version (2.3.5). This may lead to unexpected results or runtime errors. To resolve this, download a newer compatible model or retrain your custom model with the current spaCy version. For more details and available updates, run: python -m spacy validate\n",
            "  warnings.warn(warn_msg)\n",
            "2021-05-24 15:14:25,555 [MainThread  ] [WARNI]  Failed to see startup log message; retrying...\n",
            "Record inserted\n",
            "Record inserted\n",
            "Record inserted\n",
            "Record inserted\n",
            "Record inserted\n",
            "Record inserted\n",
            "Record inserted\n",
            "Record inserted\n",
            "Record inserted\n",
            "Program Completed\n"
          ]
        }
      ],
      "source": [
        "import posixpath\n",
        "import os\n",
        "from resume_parser import resumeparse\n",
        "import pandas as pd\n",
        "\n",
        "\n",
        "file1 = open('cv.cvs', 'r') \n",
        "filedata = file1.readlines() \n",
        "paths = []\n",
        "for i in range(len(filedata)):\n",
        " if filedata[i] == \"\":\n",
        "  pass  \n",
        " else:\n",
        "   paths.append(filedata[i].replace('\\n',''))\n",
        " \n",
        "for x in range(len(paths)):\n",
        " paths[x] = paths[x].replace(os.sep,posixpath.sep)\n",
        " data = resumeparse.read_file(paths[x])\n",
        " data_items = data.items()\n",
        " data_list = list(data)\n",
        " df = pd.DataFrame([data])\n",
        " ProcessCV()\n",
        "print(\"Program Completed\")\n",
        "  "
      ]
    },
    {
      "cell_type": "code",
      "execution_count": null,
      "metadata": {},
      "outputs": [],
      "source": []
    }
  ]
}